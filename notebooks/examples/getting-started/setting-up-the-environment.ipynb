{
 "cells": [
  {
   "attachments": {},
   "cell_type": "markdown",
   "metadata": {},
   "source": [
    "# Setting up the environment"
   ]
  },
  {
   "attachments": {},
   "cell_type": "markdown",
   "metadata": {},
   "source": [
    "We use the environment variables to allow the user to configure the library. The user can set the environment variables in a `.env` file in the root directory of the project.\n",
    "\n",
    "The following environment variables, also specified in the `example.env` file, are used:"
   ]
  },
  {
   "attachments": {},
   "cell_type": "markdown",
   "metadata": {},
   "source": [
    "```bash\n",
    "# OpenAI\n",
    "ORGANIZATION=\"\"\n",
    "OPENAI_API_KEY=\"\"\n",
    "\n",
    "\n",
    "# DATABASES\n",
    "WDI_DB_TABLE_NAME=\"wdi\"\n",
    "\n",
    "## POSTRESQL\n",
    "DB_ENGINE=\"postgresql\"\n",
    "DB_HOST=\"localhost\"\n",
    "DB_USERNAME=\"postgres\"\n",
    "DB_PASSWORD=<your password>\n",
    "DB_PORT=5432\n",
    "\n",
    "## SQLITE\n",
    "# DB_ENGINE=\"sqlite\"\n",
    "# DB_HOST=\n",
    "# DB_USERNAME=\"/data/sqldb/wdi.db\"\n",
    "# DB_PASSWORD=\n",
    "# DB_PORT=\n",
    "\n",
    "\n",
    "# VECTOR INDEX\n",
    "QDRANT_URL=\"localhost\"\n",
    "QDRANT_PORT=6333\n",
    "QDRANT_PATH=\n",
    "\n",
    "\n",
    "# DIRS\n",
    "LLM4DATA_DIR=~/.llm4data\n",
    "\n",
    "## Relative to LLM4DATA_DIR\n",
    "LLM4DATA_CACHE_DIR=cache\n",
    "OPENAI_PAYLOAD_DIR=openai/payloads\n",
    "\n",
    "\n",
    "# Task Labels\n",
    "## Specify the label in the payload directory\n",
    "## for this prompt set.\n",
    "TASK_LABEL_WDI_SQL = \"prompt2wdiSQL\"\n",
    "```"
   ]
  },
  {
   "attachments": {},
   "cell_type": "markdown",
   "metadata": {},
   "source": [
    "The `example.env` file is updated with the relevant variables used in the project. The user can copy the file and rename it to `.env` to set the environment variables. The `.env` file is ignored by Git for security reasons so that you can store API keys."
   ]
  },
  {
   "attachments": {},
   "cell_type": "markdown",
   "metadata": {},
   "source": [
    "```{warning}\n",
    "**NEVER** commit your `.env` file to Git. It is ignored by default in the `.gitignore` file, but you should double-check that it is not being tracked by Git.\n",
    "```"
   ]
  },
  {
   "attachments": {},
   "cell_type": "markdown",
   "metadata": {},
   "source": [
    "See the next sections for more details on the environment variables used in the project."
   ]
  }
 ],
 "metadata": {
  "language_info": {
   "name": "python"
  },
  "orig_nbformat": 4
 },
 "nbformat": 4,
 "nbformat_minor": 2
}

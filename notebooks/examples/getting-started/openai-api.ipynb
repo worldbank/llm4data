{
 "cells": [
  {
   "attachments": {},
   "cell_type": "markdown",
   "metadata": {},
   "source": [
    "# OpenAI API"
   ]
  },
  {
   "attachments": {},
   "cell_type": "markdown",
   "metadata": {},
   "source": [
    "The project currently uses the OpenAI API as its LLM backend. This page contains resources and descriptions on how to set up the OpenAI API."
   ]
  },
  {
   "attachments": {},
   "cell_type": "markdown",
   "metadata": {},
   "source": [
    "## Getting the API key\n",
    "\n",
    "To get the API key, go to your OpenAI account's [API keys](https://platform.openai.com/account/api-keys) page. If you don't have an account, you will be asked to create one.\n",
    "\n",
    "Currently, the page looks like this:\n",
    "\n",
    "![OpenAI API keys page](images/openai/api-keys-page.png)\n"
   ]
  },
  {
   "attachments": {},
   "cell_type": "markdown",
   "metadata": {},
   "source": [
    "Click the ` + Create new secret key` button. You will be asked to name the API key. You can name it anything you want. For example, you can name it \"llm4data\"."
   ]
  },
  {
   "attachments": {},
   "cell_type": "markdown",
   "metadata": {},
   "source": [
    "## Adding the API key to the project\n",
    "\n",
    "After creating the API key, you will be shown the key. Copy the key and add it to the `.env` file in the project's root directory. Place the key in the `OPENAI_API_KEY` variable.\n",
    "\n",
    "```\n",
    "OPENAI_API_KEY=<your-api-key>\n",
    "```\n",
    "\n",
    "```{warning}\n",
    "Make sure you keep the API key secure. Do not commit the API key to the repository. Do not share the API key with anyone.\n",
    "```"
   ]
  },
  {
   "attachments": {},
   "cell_type": "markdown",
   "metadata": {},
   "source": [
    "Now, you're ready to use the API key in the project! 🎉"
   ]
  }
 ],
 "metadata": {
  "language_info": {
   "name": "python"
  },
  "orig_nbformat": 4
 },
 "nbformat": 4,
 "nbformat_minor": 2
}

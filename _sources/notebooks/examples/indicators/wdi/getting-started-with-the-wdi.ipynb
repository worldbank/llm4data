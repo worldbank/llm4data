{
 "cells": [
  {
   "attachments": {},
   "cell_type": "markdown",
   "metadata": {},
   "source": [
    "# Getting Started with the World Development Indicators (WDI) data\n",
    "\n",
    "In this notebook, we will show the steps to get started with the WDI data. We will use the [WDI API](https://datahelpdesk.worldbank.org/knowledgebase/articles/889392-about-the-indicators-api-documentation) to get the data.\n",
    "\n",
    "We will be using the `data/` folder to store the data. You can change the location of the data folder by changing the `data_dir` parameter in the code below. Make sure to refer to the correct location of the data folder in the rest of the notebook.\n",
    "\n",
    "After the data is collected, we will store it in a [SQLite](https://www.sqlite.org/index.html) database. With the data in a database, we can then use LLM4Data to query the data using natural language."
   ]
  },
  {
   "attachments": {},
   "cell_type": "markdown",
   "metadata": {},
   "source": [
    "## Downloading the data\n",
    "\n",
    "\n",
    "If the data is not yet available in the `data` folder, we will download the data from the WDI API.\n",
    "\n",
    "```\n",
    "poetry run python -m scripts.scrapers.indicators.wdi --data_dir=data/indicators/wdi --force\n",
    "```\n",
    "\n",
    "This will scrape the data from the WDI API and store it in the `data/indicators/wdi` folder. Each indicator will be stored in a separate file."
   ]
  },
  {
   "attachments": {},
   "cell_type": "markdown",
   "metadata": {},
   "source": [
    "## Storing the data to a database\n",
    "\n",
    "After the data is downloaded, we will store it in a database. We will use SQLite for this example. You can use other databases as well, as long as you have the appropriate drivers installed.\n",
    "\n",
    "Please review the `setting up the environment` section for instructions on how to update the relevant environment variables.\n",
    "\n",
    "You can then run the following command to store the data in a database:\n",
    "\n",
    "```\n",
    "poetry run python -m scripts.scrapers.indicators.wdi_db  --wdi_jsons_dir=data/indicators/wdi\n",
    "```\n",
    "\n",
    "This will create a database file in the `data/indicators/wdi` folder. The database file will be named based on the information you specified in the environment variables.\n",
    "\n",
    "Alternatively, you can run the cells below to store the data in a database."
   ]
  },
  {
   "cell_type": "code",
   "execution_count": null,
   "metadata": {
    "vscode": {
     "languageId": "plaintext"
    }
   },
   "outputs": [],
   "source": [
    "from llm4data.llm.indicators.wdi_sql import WDISQL\n",
    "\n",
    "\n",
    "wdi_jsons_dir = \"data/indicators/wdi\"\n",
    "\n",
    "WDISQL.load_wdi_jsons(wdi_jsons_dir)"
   ]
  }
 ],
 "metadata": {
  "language_info": {
   "name": "python"
  },
  "orig_nbformat": 4
 },
 "nbformat": 4,
 "nbformat_minor": 2
}
